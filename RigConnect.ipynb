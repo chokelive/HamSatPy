{
 "cells": [
  {
   "cell_type": "code",
   "execution_count": null,
   "metadata": {},
   "outputs": [
    {
     "name": "stdout",
     "output_type": "stream",
     "text": [
      "\n",
      "\n",
      "# SERIAL PORTS DETAILS\n",
      "\n",
      "- ID:                    0\n",
      "  port.device:           /dev/ttyACM2\n",
      "  port.name:             ttyACM2\n",
      "  port.description:      IC-705\n",
      "  port.hwid:             USB VID:PID=0C26:0036 SER=IC-705 16001096 LOCATION=1-1:1.2\n",
      "  port.vid:              3110\n",
      "  port.pid:              54\n",
      "  port.serial_number:    IC-705 16001096\n",
      "  port.location:         1-1:1.2\n",
      "  port.manufacturer:     Icom Inc.\n",
      "  port.product:          IC-705\n",
      "  port.interface:        None\n",
      "\n",
      "- ID:                    1\n",
      "  port.device:           /dev/ttyACM1\n",
      "  port.name:             ttyACM1\n",
      "  port.description:      IC-705\n",
      "  port.hwid:             USB VID:PID=0C26:0036 SER=IC-705 16001096 LOCATION=1-1:1.0\n",
      "  port.vid:              3110\n",
      "  port.pid:              54\n",
      "  port.serial_number:    IC-705 16001096\n",
      "  port.location:         1-1:1.0\n",
      "  port.manufacturer:     Icom Inc.\n",
      "  port.product:          IC-705\n",
      "  port.interface:        None\n",
      "\n",
      "\n",
      "# SERIAL PORTS SUMMARY\n",
      "\n",
      "- 0. port.device: /dev/ttyACM2\n",
      "- 1. port.device: /dev/ttyACM1\n"
     ]
    }
   ],
   "source": [
    "## This block to check serial interface by code form https://gist.github.com/NicHub/d86d34f2292da017ac20ca1e6a7cb76d\n",
    "\n",
    "\"\"\"\n",
    "\n",
    "lsserial.py\n",
    "\n",
    "This script lists the serial devices connected in verbose and summarized lists.\n",
    "It is tested on Python3 only.\n",
    "If you prefer a single line command, there are some alternatives below.\n",
    "\n",
    "# Prerequisites\n",
    "pip install pyserial\n",
    "\n",
    "# Create alias in ~/.bash_profile or ~/.zshrc\n",
    "alias lsserial='python3 ~/lsserial.py'\n",
    "\n",
    "# If you only need the summary, you just need to run this command in bash\n",
    "python3 -m serial.tools.list_ports\n",
    "\n",
    "# Alternate solution in pure bash for macOS\n",
    "alias lsserial_b='ls -1 /dev/tty.* | grep -v -e Bluetooth -e Jabra'\n",
    "\n",
    "# Alternate solution in pure bash for Raspberry Pi OS\n",
    "alias lsserial_b='ls -1 /dev/tty* | grep tty[A-Z] | grep -v -e Bluetooth -e Jabra'\n",
    "\n",
    "# Ubuntu & Raspberry Pi OS serial diagnostic with this command\n",
    "dmesg\n",
    "\n",
    "\"\"\"\n",
    "\n",
    "import serial.tools.list_ports\n",
    "\n",
    "\n",
    "EXCLUDED_PORTS = [\n",
    "    \"Bluetooth\",\n",
    "    \"Jabra\",\n",
    "]\n",
    "\n",
    "\n",
    "def filter_out_excluded_ports():\n",
    "    \"\"\" ___ \"\"\"\n",
    "    ports = []\n",
    "    for port in serial.tools.list_ports.comports():\n",
    "        excluded_found = False\n",
    "        for excluded_port in EXCLUDED_PORTS:\n",
    "            if port.device.find(excluded_port) > -1:\n",
    "                excluded_found = True\n",
    "                break\n",
    "        if excluded_found:\n",
    "            continue\n",
    "        ports.append(port)\n",
    "    return ports\n",
    "\n",
    "\n",
    "def lsserial_verbosity_1(ports):\n",
    "    \"\"\" ___ \"\"\"\n",
    "    print(\"\\n\\n# SERIAL PORTS DETAILS\")\n",
    "    for counter, port in enumerate(ports):\n",
    "        print(\"\")\n",
    "        print(\"- ID:                    %d\" % (counter))\n",
    "        print(\"  port.device:           %s\" % (port.device))\n",
    "        print(\"  port.name:             %s\" % (port.name))\n",
    "        print(\"  port.description:      %s\" % (port.description))\n",
    "        print(\"  port.hwid:             %s\" % (port.hwid))\n",
    "        print(\"  port.vid:              %s\" % (port.vid))\n",
    "        print(\"  port.pid:              %s\" % (port.pid))\n",
    "        print(\"  port.serial_number:    %s\" % (port.serial_number))\n",
    "        print(\"  port.location:         %s\" % (port.location))\n",
    "        print(\"  port.manufacturer:     %s\" % (port.manufacturer))\n",
    "        print(\"  port.product:          %s\" % (port.product))\n",
    "        print(\"  port.interface:        %s\" % (port.interface))\n",
    "\n",
    "\n",
    "def lsserial_verbosity_0(ports):\n",
    "    \"\"\" ___ \"\"\"\n",
    "    print(\"\\n\\n# SERIAL PORTS SUMMARY\\n\")\n",
    "    for counter, port in enumerate(ports):\n",
    "        print(\"- %s. port.device: %s\" % (counter, port.device))\n",
    "\n",
    "\n",
    "def main():\n",
    "    \"\"\" ___ \"\"\"\n",
    "    ports = filter_out_excluded_ports()\n",
    "    if len(ports) == 0:\n",
    "        print(\"\\n\\n# NO SERIAL PORT FOUND\")\n",
    "    else:\n",
    "        lsserial_verbosity_1(ports)\n",
    "        lsserial_verbosity_0(ports)\n",
    "\n",
    "\n",
    "if __name__ == \"__main__\":\n",
    "    main()"
   ]
  },
  {
   "cell_type": "code",
   "execution_count": 38,
   "metadata": {},
   "outputs": [],
   "source": [
    "import sys\n",
    "\n",
    "sys.path.append('/home/chokelive/local/lib/python3.12/site-packages')\n",
    "import Hamlib\n",
    "\n",
    "Hamlib.rig_set_debug(Hamlib.RIG_DEBUG_NONE)"
   ]
  },
  {
   "cell_type": "code",
   "execution_count": 39,
   "metadata": {},
   "outputs": [],
   "source": [
    "rig = Hamlib.Rig(3085) # 3085 is the rig number for the IC-705\n",
    "rig.set_conf(\"rig_pathname\", \"/dev/ttyACM1\")\n",
    "rig.set_conf(\"retry\", \"1\")\n",
    "rig.open ()"
   ]
  },
  {
   "cell_type": "code",
   "execution_count": 40,
   "metadata": {},
   "outputs": [
    {
     "data": {
      "text/plain": [
       "432242000.0"
      ]
     },
     "execution_count": 40,
     "metadata": {},
     "output_type": "execute_result"
    }
   ],
   "source": [
    "rig.get_freq()"
   ]
  },
  {
   "cell_type": "code",
   "execution_count": 41,
   "metadata": {},
   "outputs": [],
   "source": [
    "rig.set_freq(Hamlib.RIG_VFO_A, 432000000)"
   ]
  },
  {
   "cell_type": "code",
   "execution_count": 42,
   "metadata": {},
   "outputs": [
    {
     "data": {
      "text/plain": [
       "432000000.0"
      ]
     },
     "execution_count": 42,
     "metadata": {},
     "output_type": "execute_result"
    }
   ],
   "source": [
    "rig.get_freq()"
   ]
  }
 ],
 "metadata": {
  "kernelspec": {
   "display_name": "Python 3 (ipykernel)",
   "language": "python",
   "name": "python3"
  },
  "language_info": {
   "codemirror_mode": {
    "name": "ipython",
    "version": 3
   },
   "file_extension": ".py",
   "mimetype": "text/x-python",
   "name": "python",
   "nbconvert_exporter": "python",
   "pygments_lexer": "ipython3",
   "version": "3.12.3"
  }
 },
 "nbformat": 4,
 "nbformat_minor": 2
}
