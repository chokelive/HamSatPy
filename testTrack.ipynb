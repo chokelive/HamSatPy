{
 "cells": [
  {
   "cell_type": "markdown",
   "metadata": {},
   "source": [
    "# E29AHU Satellite doppler calculation study\n",
    "### - (Project Name: \"HamSatPy\")  email: e29ahu@gmail.com\n",
    "### - Final goal to used with IC-705 and Pi Zero 2W for stand alone amateuradio sattelite comunication\n",
    "<hr/>"
   ]
  },
  {
   "cell_type": "markdown",
   "metadata": {},
   "source": [
    "### 1. Requesting SQF data from the github repository and extracting the data for satellite name, frequency and mode selection"
   ]
  },
  {
   "cell_type": "code",
   "execution_count": 56,
   "metadata": {},
   "outputs": [
    {
     "name": "stdout",
     "output_type": "stream",
     "text": [
      "FO-29,435850,145950,USB,LSB,REV,0,0,SSB\n",
      "FO-29,435850,145950,CW,CW,REV,0,0,CW\n",
      "FO-99,437075,0,FM,FM,NOR,0,0,CW/SSTV\n",
      "FO-99,435925,145915,CW,CW,REV,0,0,CW/SSB\n",
      "HO-113,435180,145871,USB,LSB,REV,0,0,V/U SSB/CW\n",
      "IO-86,435880,145880,FM,FM,NOR,0,0,FM tone 88.5Hz\n",
      "IO-86,145825,145825,FM,FM,NOR,0,0,APRS\n",
      "ISS,145825,145825,FM,FM,NOR,0,0,APRS\n",
      "ISS,437800,145990,FM,FM,NOR,0,0,FM tone 67.0Hz\n",
      "ISS,145800,0,FM,FM,NOR,0,0,SSTV\n",
      "RS-44,435640,145964,USB,LSB,REV,0,0,SSB\n",
      "RS-44,435640,145964,CW,CW,REV,0,0,CW\n",
      "UVSQ-SAT,437020,145905,FM,FM,NOR,0,0,FM\n",
      "SO-50,436795,145850,FM,FM,NOR,0,0,FM tone 67.0Hz\n",
      "AO-27,436795,145850,FM,FM,NOR,0,0,FM\n",
      "IO-117,435310,435310,DATA-USB,DATA-USB,NOR,0,0,DATA-USB\n",
      "FO-118,435540,145820,USB,LSB,REV,0,0,VHF/UHF SSB\n",
      "FO-118,435600,145925,FM,FM,NOR,0,0,VHF/UHF FM\n",
      "Tevel-1,436400,145970,FM,FM,NOR,0,0,VHF/UHF FM\n",
      "Tevel-2,436400,145970,FM,FM,NOR,0,0,VHF/UHF FM\n",
      "Tevel-3,436400,145970,FM,FM,NOR,0,0,VHF/UHF FM\n",
      "Tevel-4,436400,145970,FM,FM,NOR,0,0,VHF/UHF FM\n",
      "Tevel-5,436400,145970,FM,FM,NOR,0,0,VHF/UHF FM\n",
      "Tevel-6,436400,145970,FM,FM,NOR,0,0,VHF/UHF FM\n",
      "Tevel-7,436400,145970,FM,FM,NOR,0,0,VHF/UHF FM\n",
      "Tevel-8,436400,145970,FM,FM,NOR,0,0,VHF/UHF FM\n",
      "MESAT1,435825,145925,USB,LSB,REV,0,0,SSB\n",
      "MESAT1,435825,145925,CW,CW,REV,0,0,CW\n",
      "\n"
     ]
    }
   ],
   "source": [
    "# Requesting SQF data from the github repository and extracting the data for satellite name, frequency and mode selection\n",
    "import requests\n",
    "def req_satlist():\n",
    "    tle_url = 'https://raw.githubusercontent.com/chokelive/HamSatTune/refs/heads/main/Doppler.sqf'\n",
    "    response = requests.get(tle_url)\n",
    "    ret = \"\"\n",
    "\n",
    "    if response.status_code == 200:\n",
    "        with open('Doppler.sqf', 'wb') as file:\n",
    "            file.write(response.content)\n",
    "\n",
    "    with open('Doppler.sqf', 'r') as file:\n",
    "        lines = file.readlines()\n",
    "        for i, line in enumerate(lines):\n",
    "            ret += line\n",
    "\n",
    "    return(ret)\n",
    "\n",
    "print(req_satlist())"
   ]
  },
  {
   "cell_type": "markdown",
   "metadata": {},
   "source": [
    "### 2. Identify the satellite name, frequency and mode and grid locator"
   ]
  },
  {
   "cell_type": "code",
   "execution_count": 57,
   "metadata": {},
   "outputs": [],
   "source": [
    "## Identify the satellite name, frequency and mode and grid locator\n",
    "sat_name = 'RS-44'\n",
    "sat_mode = 'SSB'\n",
    "grid_locator = 'NK93vt'"
   ]
  },
  {
   "cell_type": "markdown",
   "metadata": {},
   "source": [
    "### 3. Request the TLE file from the AMSAT website and extracting the TLE data by satellite name selected "
   ]
  },
  {
   "cell_type": "code",
   "execution_count": 58,
   "metadata": {},
   "outputs": [
    {
     "name": "stdout",
     "output_type": "stream",
     "text": [
      "RS-44\n",
      "1 44909U 19096E   24306.55452545  .00000043  00000-0  11763-3 0  9999\n",
      "2 44909  82.5260  13.4920 0218501  90.0763 272.5375 12.79735466226542\n",
      "\n"
     ]
    }
   ],
   "source": [
    "## Request the TLE file from the AMSAT website and extracting the TLE data by satellite name selected \n",
    "def read_tle(satname):\n",
    "    tle_url = 'https://www.amsat.org/tle/current/nasabare.txt'\n",
    "    response = requests.get(tle_url)\n",
    "\n",
    "    if response.status_code == 200:\n",
    "        with open('tle.txt', 'wb') as file:\n",
    "            file.write(response.content)\n",
    "\n",
    "    with open('tle.txt', 'r') as file:\n",
    "        lines = file.readlines()\n",
    "        tle = \"\"\n",
    "        for i, line in enumerate(lines):\n",
    "            if satname in line:\n",
    "                tle = lines[i] + lines[i+1] + lines[i+2]\n",
    "                break\n",
    "    return(tle)\n",
    "\n",
    "print(read_tle(sat_name))\n"
   ]
  },
  {
   "cell_type": "markdown",
   "metadata": {},
   "source": [
    "### 4. Read satellite frequency from SQF file by satellite name and mode selected."
   ]
  },
  {
   "cell_type": "code",
   "execution_count": 59,
   "metadata": {},
   "outputs": [
    {
     "name": "stdout",
     "output_type": "stream",
     "text": [
      "RS-44,435640,145964,USB,LSB,REV,0,0,SSB\n",
      "\n"
     ]
    }
   ],
   "source": [
    "# Read satellite frequency from SQF file by satellite name and mode selected.\n",
    "def read_sqf(satname, satemode):\n",
    "    with open('Doppler.sqf', 'r') as file:\n",
    "        lines = file.readlines()\n",
    "        for i, line in enumerate(lines):\n",
    "            line_arr = line.split(',')\n",
    "            if len(line_arr) >= 8:\n",
    "                if satname in line_arr[0] and satemode in line_arr[8]:\n",
    "                    ret = line\n",
    "                    break\n",
    "\n",
    "    return(ret)\n",
    "\n",
    "sqf_data = read_sqf(sat_name, sat_mode)\n",
    "print(sqf_data)"
   ]
  },
  {
   "cell_type": "markdown",
   "metadata": {},
   "source": [
    "### 5. Calculate doppler shift frequency from TLE data"
   ]
  },
  {
   "cell_type": "code",
   "execution_count": 60,
   "metadata": {},
   "outputs": [
    {
     "data": {
      "text/plain": [
       "{'norad_id': 44909,\n",
       " 'name': 'RS-44',\n",
       " 'epoch': 1730550930.2757812,\n",
       " 'latitude': 27.75982174236604,\n",
       " 'longitude': 317.754379597622,\n",
       " 'azimuth': 65.65047152876343,\n",
       " 'elevation': -17.68602045222495,\n",
       " 'orbital_velocity': 26132.140388417978,\n",
       " 'footprint': 7455.669822031897,\n",
       " 'altitude': 1269.4579123547537,\n",
       " 'slant_range': 6579.95867774096,\n",
       " 'eclipse_depth': -72.5039748330706,\n",
       " 'orbital_phase': 44.070471947209185,\n",
       " 'orbital_model': 'SGP4',\n",
       " 'visibility': b'D',\n",
       " 'sunlit': 1,\n",
       " 'orbit': 22667,\n",
       " 'geostationary': 0,\n",
       " 'has_aos': 1,\n",
       " 'decayed': 0,\n",
       " 'doppler': -107.04803287973687,\n",
       " 'eci_x': -6689.835964048329,\n",
       " 'eci_y': -1048.6028266682886,\n",
       " 'eci_z': 3544.24927294821,\n",
       " 'eci_vx': -3.255012261042674,\n",
       " 'eci_vy': -1.5883910886604808,\n",
       " 'eci_vz': -6.290782382129228,\n",
       " 'eci_sun_x': -112715008.57603188,\n",
       " 'eci_sun_y': -88595797.03354403,\n",
       " 'eci_sun_z': -38409708.52778442,\n",
       " 'eci_obs_x': -4097.438565021883,\n",
       " 'eci_obs_y': 4646.977638681881,\n",
       " 'eci_obs_z': 1510.6084273166553,\n",
       " 'beta_angle': 22.085920392207004}"
      ]
     },
     "execution_count": 60,
     "metadata": {},
     "output_type": "execute_result"
    }
   ],
   "source": [
    "# Calculate doppler shift frequency from TLE data\n",
    "\n",
    "import predict\n",
    "from maidenhead import to_location\n",
    "import json\n",
    "\n",
    "def predict_sat(sat_name, grid_locator):\n",
    "    tle = read_tle(sat_name)\n",
    "    lat, lon = to_location(grid_locator)\n",
    "    qth = (lat, lon, 7)\n",
    "    sat = predict.observe(tle, qth) \n",
    "\n",
    "    return(sat)\n",
    "\n",
    "sat_data = predict_sat(sat_name, grid_locator)\n",
    "sat_data\n"
   ]
  },
  {
   "cell_type": "markdown",
   "metadata": {},
   "source": [
    "### 6. Calculate the satellite frequency doppler\n",
    "\n",
    "To Calculate TX from RX Tuning, We use this equation:\n",
    "\n",
    "- Setup IC-705 in Split Mode\n",
    "- RX in VFO A\n",
    "- TX in VFO B\n",
    "\n",
    "\n",
    "RX_Tune = RX_Origin + doppler\n",
    "\n",
    "TX_Tune = TX_Origin - doppler \n",
    "\n",
    "TX_Tune_LinearSat = TX_Origin + RX_Offset_From_RX_Origin\n"
   ]
  },
  {
   "cell_type": "code",
   "execution_count": 61,
   "metadata": {},
   "outputs": [
    {
     "name": "stdout",
     "output_type": "stream",
     "text": [
      "435639893 145964107\n"
     ]
    }
   ],
   "source": [
    "# Calculate the satellite frequency doppler\n",
    "# ISS,437800,145990,FM,FM,NOR,0,0,FM tone 67.0Hz\n",
    "def calc_txrx_doppler(rx_freq_origin, tx_freq_origin, doppler):\n",
    "    rx_freq_tune = rx_freq_origin + doppler\n",
    "    tx_freq_tune = tx_freq_origin - doppler\n",
    "            \n",
    "\n",
    "    return(rx_freq_tune, tx_freq_tune)\n",
    "\n",
    "rx_freq_origin = int(sqf_data.split(',')[1]) * 1000\n",
    "tx_freq_origin = int(sqf_data.split(',')[2]) * 1000\n",
    "rx_freq_previous = rx_freq_origin\n",
    "rx_freq_freetune = rx_freq_origin\n",
    "transponderType = sqf_data.split(',')[5]\n",
    "doppler = int(sat_data['doppler'])\n",
    "\n",
    "rx_freq_tune, tx_freq_tune = calc_txrx_doppler(rx_freq_origin, tx_freq_origin, doppler)\n",
    "\n",
    "print(rx_freq_tune, tx_freq_tune)\n",
    "\n",
    "# Set rx tx frequency to RIG\n",
    "# Finish doppler calculation"
   ]
  },
  {
   "cell_type": "markdown",
   "metadata": {},
   "source": [
    "\n",
    "### Finish doppler calculation...\n",
    "<hr/>\n",
    "\n",
    "### Next step is special option, we can free tune RX frequency and software will recalculate Doppler \n",
    "### 7. For FM satellite, If user changed the RX frequency, We recalculate only RX Frequency + Doppler "
   ]
  },
  {
   "cell_type": "code",
   "execution_count": 62,
   "metadata": {},
   "outputs": [
    {
     "name": "stdout",
     "output_type": "stream",
     "text": [
      "435641286 145964107\n"
     ]
    }
   ],
   "source": [
    "# for FM satellite, we allow to fine tune and recalculabe the doppler\n",
    "flagFreeTune = False\n",
    "\n",
    "rx_freq_tune = rx_freq_tune + 1500 # Read This frequency from RIG, we simulate ty tune 1.5 kHz up\n",
    "if(abs(rx_freq_tune - rx_freq_previous > 50)): # If true mean the frequency is changed by user\n",
    "   rx_freq_freetune = rx_freq_tune\n",
    "   flagFreeTune = True\n",
    "\n",
    "rx_freq_previous = rx_freq_freetune # get this frequency from RIG\n",
    "\n",
    "# and we will use new rx_freq_freetune to calculate the doppler at next round by check flag \"flagFreeTune\"\n",
    "rx_freq_tune, tx_freq_tune = calc_txrx_doppler(rx_freq_freetune, tx_freq_origin, doppler)\n",
    "\n",
    "print(rx_freq_tune, tx_freq_tune)\n",
    "# and save frequency to RIG"
   ]
  },
  {
   "cell_type": "markdown",
   "metadata": {},
   "source": [
    "### 8. For linear satellite, If user changed the RX frequency, We recalculate both (RX and TX) Doppler  "
   ]
  },
  {
   "cell_type": "code",
   "execution_count": null,
   "metadata": {},
   "outputs": [
    {
     "name": "stdout",
     "output_type": "stream",
     "text": [
      "435641286 145962821\n"
     ]
    }
   ],
   "source": [
    "# For linear Satellite, we need calculate frequency offset duting fine tuning\n",
    "tx_freq_tune = tx_freq_origin\n",
    "rx_freq_tune_offset = int(rx_freq_origin - rx_freq_tune)\n",
    "\n",
    "if (transponderType == \"REV\"):\n",
    "        tx_freq_freetune = tx_freq_tune + rx_freq_tune_offset\n",
    "\n",
    "# and we will use new rx_freq_freetune to calculate the doppler at next round by check flag \"flagFreeTune\"\n",
    "rx_freq_tune, tx_freq_tune = calc_txrx_doppler(rx_freq_freetune, tx_freq_freetune, doppler)\n",
    "\n",
    "print(rx_freq_tune, tx_freq_tune)\n",
    "# and save frequency to RIG"
   ]
  }
 ],
 "metadata": {
  "kernelspec": {
   "display_name": "Python 3 (ipykernel)",
   "language": "python",
   "name": "python3"
  },
  "language_info": {
   "codemirror_mode": {
    "name": "ipython",
    "version": 3
   },
   "file_extension": ".py",
   "mimetype": "text/x-python",
   "name": "python",
   "nbconvert_exporter": "python",
   "pygments_lexer": "ipython3",
   "version": "3.12.3"
  }
 },
 "nbformat": 4,
 "nbformat_minor": 2
}
